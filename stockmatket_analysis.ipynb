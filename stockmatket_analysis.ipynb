{
 "cells": [
  {
   "cell_type": "code",
   "execution_count": 7,
   "metadata": {},
   "outputs": [],
   "source": [
    "from pandas_datareader import data\n",
    "import datetime\n",
    "from bokeh.plotting import figure, show, output_file\n",
    "from bokeh.embed import components\n",
    "from bokeh.resources import CDN\n",
    "\n",
    "\n",
    "#esta parte do programa recolhe dados da internet\n",
    "start =datetime.datetime(2018,6,1)\n",
    "#end = datetime.datetime(2018,11,22)]\n",
    "end = datetime.datetime.now().strftime('%Y-%m-%d')\n",
    "df=data.DataReader(name=\"GOOG\", data_source=\"yahoo\",start=start,end=end)\n",
    "\n",
    "p = figure(x_axis_type = \"datetime\", width = 1000, height = 300, title=\"candlestick\", sizing_mode = \"scale_width\")\n",
    "p.grid.grid_line_alpha = 0.3\n",
    "\n",
    "df[\"Middle\"] = (df.Open+df.Close)/2\n",
    "df[\"Height\"] = abs(df.Open - df.Close)\n",
    "#define se um determinado dia terminou em alta ou em baixa\n",
    "def inc_dec(c,o):\n",
    "    if c>o:\n",
    "        value = \"Increase\"\n",
    "    elif c<o:\n",
    "        value = \"Decrease\"\n",
    "    else:\n",
    "        value = \"Equal\"\n",
    "    return value\n",
    "\n",
    "#linha que adiciona uma nova camada \"status\" \n",
    "df[\"Status\"] = [inc_dec(c,o)for c, o in zip(df.Close, df.Open)]\n",
    "\n",
    "hours_12 = (12*60*60*1000) \n",
    "p.segment(df.index,df.High,df.index,df.Low,color =\"black\")\n",
    "#produz a vela de balanço positivo em verde\n",
    "p.rect(df.index[df.Status == \"Increase\"],df.Middle[df.Status == \"Increase\"] ,hours_12, df.Height[df.Status == \"Increase\"],fill_color = \"green\",line_color=\"black\")\n",
    "#produz a vela da balança negativa em vermelho\n",
    "p.rect(df.index[df.Status == \"Decrease\"],df.Middle[df.Status == \"Decrease\"] ,hours_12, df.Height[df.Status == \"Decrease\"],fill_color = \"red\",line_color=\"black\")\n",
    "\n",
    "\n",
    "\n",
    "output_file(\"latabela.html\")\n",
    "show(p)\n",
    "#flask part online\n",
    "script1,div1 = components(p)\n",
    "cdn_js = CDN.js_files\n",
    "cdn_css = CDN.css_files\n",
    "\n"
   ]
  },
  {
   "cell_type": "code",
   "execution_count": 5,
   "metadata": {},
   "outputs": [
    {
     "data": {
      "text/plain": [
       "'https://cdn.pydata.org/bokeh/release/bokeh-1.4.0.min.js'"
      ]
     },
     "execution_count": 5,
     "metadata": {},
     "output_type": "execute_result"
    }
   ],
   "source": [
    "cdn_js[0]"
   ]
  },
  {
   "cell_type": "code",
   "execution_count": null,
   "metadata": {},
   "outputs": [],
   "source": []
  }
 ],
 "metadata": {
  "kernelspec": {
   "display_name": "Python 3",
   "language": "python",
   "name": "python3"
  }
 },
 "nbformat": 4,
 "nbformat_minor": 2
}
